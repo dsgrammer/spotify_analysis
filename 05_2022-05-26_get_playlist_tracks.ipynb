{
 "cells": [
  {
   "cell_type": "code",
   "execution_count": 2,
   "metadata": {},
   "outputs": [],
   "source": [
    "import requests\n",
    "import pandas as pd\n",
    "import time\n",
    "import spotipy\n",
    "from spotipy.oauth2 import SpotifyClientCredentials\n",
    "import spotipy.util as util"
   ]
  },
  {
   "cell_type": "code",
   "execution_count": 3,
   "metadata": {},
   "outputs": [],
   "source": [
    "AUTH_URL = 'https://accounts.spotify.com/api/token'\n",
    "# POST\n",
    "auth_response = requests.post(AUTH_URL, {\n",
    "    'grant_type': 'client_credentials',\n",
    "    'client_id': '9cdef0bc741e471385b100af843c28c5',\n",
    "    'client_secret': 'a0820dd07a3e4d8facb51bb5ed5130a2',\n",
    "})\n",
    "# convert the response to JSON\n",
    "auth_response_data = auth_response.json()\n",
    "# save the access token\n",
    "access_token = auth_response_data['access_token']\n",
    "# used for authenticating all API calls\n",
    "headers = {'Authorization': 'Bearer {token}'.format(token=access_token)}"
   ]
  },
  {
   "cell_type": "code",
   "execution_count": 4,
   "metadata": {},
   "outputs": [],
   "source": [
    "BASE_URL = 'https://api.spotify.com/v1/'\n",
    "playlist_id = '1DkMMHspCJGfr3Fo0a2gjm'\n",
    "f = requests.get(BASE_URL + 'playlists/' + playlist_id + '/tracks/', headers=headers)\n",
    "a = f.json()\n",
    "#with open('playlist_song_list.json', 'w', encoding='utf-8') as f:\n",
    "#    json.dump(a, f, ensure_ascii=False, indent=4)"
   ]
  },
  {
   "cell_type": "code",
   "execution_count": 5,
   "metadata": {},
   "outputs": [
    {
     "data": {
      "text/plain": [
       "\"\\nimport json\\nBASE_URL = 'https://api.spotify.com/v1/'\\nplaylist_id = '1DkMMHspCJGfr3Fo0a2gjm'\\nf = requests.get(BASE_URL + '/me/top/type', headers=headers)\\na = f.json()\\nwith open('top_song_list.json', 'w', encoding='utf-8') as f:\\n    json.dump(a, f, ensure_ascii=False, indent=4)\\n\""
      ]
     },
     "execution_count": 5,
     "metadata": {},
     "output_type": "execute_result"
    }
   ],
   "source": [
    "\"\"\"\n",
    "import json\n",
    "BASE_URL = 'https://api.spotify.com/v1/'\n",
    "playlist_id = '1DkMMHspCJGfr3Fo0a2gjm'\n",
    "f = requests.get(BASE_URL + '/me/top/type', headers=headers)\n",
    "a = f.json()\n",
    "with open('top_song_list.json', 'w', encoding='utf-8') as f:\n",
    "    json.dump(a, f, ensure_ascii=False, indent=4)\n",
    "\"\"\""
   ]
  },
  {
   "cell_type": "code",
   "execution_count": 6,
   "metadata": {},
   "outputs": [
    {
     "name": "stdout",
     "output_type": "stream",
     "text": [
      "env: SPOTIPY_CLIENT_ID=9cdef0bc741e471385b100af843c28c5\n",
      "env: SPOTIPY_CLIENT_SECRET=a0820dd07a3e4d8facb51bb5ed5130a2\n",
      "env: SPOTIPY_REDIRECT_URI=http://localhost:8888/callback\n"
     ]
    },
    {
     "ename": "AttributeError",
     "evalue": "'Spotify' object has no attribute 'get_playlist_items'",
     "output_type": "error",
     "traceback": [
      "\u001b[0;31m---------------------------------------------------------------------------\u001b[0m",
      "\u001b[0;31mAttributeError\u001b[0m                            Traceback (most recent call last)",
      "\u001b[1;32m/home/derek/Documents/spotify_analysis/05_2022-05-26_get_playlist_tracks.ipynb Cell 5\u001b[0m line \u001b[0;36m1\n\u001b[1;32m      <a href='vscode-notebook-cell:/home/derek/Documents/spotify_analysis/05_2022-05-26_get_playlist_tracks.ipynb#W4sZmlsZQ%3D%3D?line=7'>8</a>\u001b[0m sp \u001b[39m=\u001b[39m spotipy\u001b[39m.\u001b[39mSpotify(client_credentials_manager\u001b[39m=\u001b[39mSpotifyClientCredentials())\n\u001b[1;32m      <a href='vscode-notebook-cell:/home/derek/Documents/spotify_analysis/05_2022-05-26_get_playlist_tracks.ipynb#W4sZmlsZQ%3D%3D?line=8'>9</a>\u001b[0m user \u001b[39m=\u001b[39m sp\n\u001b[0;32m---> <a href='vscode-notebook-cell:/home/derek/Documents/spotify_analysis/05_2022-05-26_get_playlist_tracks.ipynb#W4sZmlsZQ%3D%3D?line=9'>10</a>\u001b[0m a \u001b[39m=\u001b[39m user\u001b[39m.\u001b[39;49mget_playlist_items()\n\u001b[1;32m     <a href='vscode-notebook-cell:/home/derek/Documents/spotify_analysis/05_2022-05-26_get_playlist_tracks.ipynb#W4sZmlsZQ%3D%3D?line=10'>11</a>\u001b[0m a\n",
      "\u001b[0;31mAttributeError\u001b[0m: 'Spotify' object has no attribute 'get_playlist_items'"
     ]
    }
   ],
   "source": [
    "#Set environment API variables\n",
    "%set_env SPOTIPY_CLIENT_ID = 9cdef0bc741e471385b100af843c28c5\n",
    "%set_env SPOTIPY_CLIENT_SECRET = a0820dd07a3e4d8facb51bb5ed5130a2\n",
    "%set_env SPOTIPY_REDIRECT_URI= http://localhost:8888/callback\n",
    "\n",
    "#Set token and login credentials\n",
    "token = util.prompt_for_user_token(scope=\"user-library-read\")\n",
    "sp = spotipy.Spotify(client_credentials_manager=SpotifyClientCredentials())\n",
    "user = sp\n",
    "a = user.get_playlist_items()\n",
    "a"
   ]
  },
  {
   "cell_type": "code",
   "execution_count": null,
   "metadata": {},
   "outputs": [],
   "source": [
    "current_user_playlists(limit=50, offset=0)\n",
    "\n",
    "\n",
    "playlist(playlist_id, fields=None, market=None, additional_types=('track', ))\n",
    "\n",
    "    Gets playlist by id.\n",
    "\n",
    "    Parameters:\n",
    "\n",
    "            playlist - the id of the playlist\n",
    "            fields - which fields to return\n",
    "\n",
    "            market - An ISO 3166-1 alpha-2 country code or the\n",
    "                string from_token.\n",
    "\n",
    "            additional_types - list of item types to return.\n",
    "                valid types are: track and episode\n",
    "\n",
    "\n",
    "playlist_items(playlist_id, fields=None, limit=100, offset=0, market=None, additional_types=('track', 'episode'))\n",
    "\n",
    "    Get full details of the tracks and episodes of a playlist.\n",
    "\n",
    "    Parameters:\n",
    "\n",
    "            playlist_id - the playlist ID, URI or URL\n",
    "            fields - which fields to return\n",
    "            limit - the maximum number of tracks to return\n",
    "            offset - the index of the first track to return\n",
    "            market - an ISO 3166-1 alpha-2 country code.\n",
    "\n",
    "            additional_types - list of item types to return.\n",
    "                valid types are: track and episode\n",
    "\n",
    "\n",
    "playlist_tracks(playlist_id, fields=None, limit=100, offset=0, market=None, additional_types=('track', ))\n",
    "\n",
    "    Get full details of the tracks of a playlist.\n",
    "\n",
    "    Parameters:\n",
    "\n",
    "            playlist_id - the playlist ID, URI or URL\n",
    "            fields - which fields to return\n",
    "            limit - the maximum number of tracks to return\n",
    "            offset - the index of the first track to return\n",
    "            market - an ISO 3166-1 alpha-2 country code.\n",
    "\n",
    "            additional_types - list of item types to return.\n",
    "                valid types are: track and episode\n",
    "\n",
    "\n",
    "user_playlists(user, limit=50, offset=0)\n",
    "\n",
    "    Gets playlists of a user\n",
    "\n",
    "    Parameters:\n",
    "\n",
    "            user - the id of the usr\n",
    "            limit - the number of items to return\n",
    "            offset - the index of the first item to return\n",
    "\n"
   ]
  }
 ],
 "metadata": {
  "kernelspec": {
   "display_name": "Python 3",
   "language": "python",
   "name": "python3"
  },
  "language_info": {
   "codemirror_mode": {
    "name": "ipython",
    "version": 3
   },
   "file_extension": ".py",
   "mimetype": "text/x-python",
   "name": "python",
   "nbconvert_exporter": "python",
   "pygments_lexer": "ipython3",
   "version": "3.10.12"
  },
  "orig_nbformat": 4,
  "vscode": {
   "interpreter": {
    "hash": "06d65585397194ffcaf6fd2276ffa5750d1446fb10621674060d9e7652194a07"
   }
  }
 },
 "nbformat": 4,
 "nbformat_minor": 2
}
