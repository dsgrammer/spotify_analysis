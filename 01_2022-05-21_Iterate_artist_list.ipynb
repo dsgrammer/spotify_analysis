{
 "cells": [
  {
   "cell_type": "markdown",
   "metadata": {},
   "source": [
    "This iteration of the API call program uses an artist list formatted as a csv as the input to do the API calls for album information."
   ]
  },
  {
   "cell_type": "code",
   "execution_count": 2,
   "metadata": {},
   "outputs": [],
   "source": [
    "import requests\n",
    "import pandas as pd\n",
    "import time"
   ]
  },
  {
   "cell_type": "code",
   "execution_count": 3,
   "metadata": {},
   "outputs": [],
   "source": [
    "AUTH_URL = 'https://accounts.spotify.com/api/token'\n",
    "\n",
    "# POST\n",
    "auth_response = requests.post(AUTH_URL, {\n",
    "    'grant_type': 'client_credentials',\n",
    "    'client_id': '9cdef0bc741e471385b100af843c28c5',\n",
    "    'client_secret': 'a0820dd07a3e4d8facb51bb5ed5130a2',\n",
    "})\n",
    "\n",
    "# convert the response to JSON\n",
    "auth_response_data = auth_response.json()\n",
    "\n",
    "# save the access token\n",
    "access_token = auth_response_data['access_token']\n",
    "\n",
    "# used for authenticating all API calls\n",
    "headers = {'Authorization': 'Bearer {token}'.format(token=access_token)}"
   ]
  },
  {
   "cell_type": "code",
   "execution_count": 4,
   "metadata": {},
   "outputs": [],
   "source": [
    "def get_albums(album_df):\n",
    "    a = 0\n",
    "    artist_id_list = csv\n",
    "\n",
    "    while a < len(artist_id_list):\n",
    "        if a < len(artist_id_list):\n",
    "            #print(artist_id_list.iloc[a,0])\n",
    "            artist_id = artist_id_list.iloc[a,0]\n",
    "            # pull all artist's albums\n",
    "            r = requests.get(BASE_URL + 'artists/' + artist_id + '/albums', \n",
    "                            headers=headers, \n",
    "                            params={'include_groups': 'album'})\n",
    "            d = r.json()\n",
    "            \n",
    "            time.sleep(1)\n",
    "            \n",
    "            for album in d['items']:\n",
    "                if album['type'] == 'album':\n",
    "                    band_id = album['artists'][0]['id']\n",
    "                    band_name = album['artists'][0]['name']\n",
    "                    album_name = album['name']\n",
    "                    release_date = album['release_date']\n",
    "                    total_tracks = album['total_tracks']\n",
    "                    album_id = album['id']\n",
    "\n",
    "                    # skip album doubles\n",
    "                    trim_name = album_name.split('(')[0].strip()\n",
    "                    # Trivium specific\n",
    "                    if trim_name.upper() in albums or album['name'] == ('Ascendancy (Commentary Version)') or album['name'] == ('Ember To Inferno'):\n",
    "                        continue\n",
    "                    # append to album list for avoiding doubles\n",
    "                    albums.append(trim_name.upper())\n",
    "                    \n",
    "                    #save data in pd dataframe\n",
    "                    ##album_df = album_df.append({'band_id':band_id,'band_name':band_name,'album_name':album_name,'release_date':release_date,\n",
    "                    ##                'total_tracks':total_tracks,'album_id':album_id},ignore_index=True)\n",
    "                    temp_df = pd.DataFrame({'artist_id':band_id,'artist_name':band_name,'album_id':album_id,'album_name':album_name,'release_date':release_date,\n",
    "                        'total_tracks':total_tracks}, index = [a])\n",
    "                    album_df = pd.concat([album_df, temp_df], ignore_index=True)\n",
    "        else:\n",
    "            break \n",
    "        a += 1\n",
    "    #return album_df\n",
    "    return album_df"
   ]
  },
  {
   "cell_type": "code",
   "execution_count": 5,
   "metadata": {},
   "outputs": [
    {
     "name": "stdout",
     "output_type": "stream",
     "text": [
      "-----------------------------------\n",
      "Saved to .csv in project directory.\n",
      "-----------------------------------\n"
     ]
    }
   ],
   "source": [
    "#Main\n",
    "BASE_URL = 'https://api.spotify.com/v1/'\n",
    "csv = pd.read_csv('~/Documents/spotify_analysis/test-csvs/artist_list.csv',index_col=False)\n",
    "#data = []\n",
    "albums = []\n",
    "album_df = pd.DataFrame(columns=[\"artist_id\",\"artist_name\",\"album_id\",\"album_name\",\"release_date\",\n",
    "                  \"total_tracks\"])\n",
    "album_df = get_albums(album_df)\n",
    "\n",
    "#album_df= album_df.reset_index()\n",
    "#album_df = album_df.set_index('album_id')\n",
    "album_df.to_csv(r'~/Documents/spotify_analysis/test-csvs/album_list.csv',encoding='utf-8-sig')\n",
    "print('-----------------------------------')\n",
    "print('Saved to album_list.csv in project directory.')\n",
    "print('-----------------------------------')"
   ]
  },
  {
   "cell_type": "code",
   "execution_count": 6,
   "metadata": {},
   "outputs": [
    {
     "name": "stdout",
     "output_type": "stream",
     "text": [
      "<class 'pandas.core.frame.DataFrame'>\n",
      "RangeIndex: 2 entries, 0 to 1\n",
      "Data columns (total 6 columns):\n",
      " #   Column        Non-Null Count  Dtype \n",
      "---  ------        --------------  ----- \n",
      " 0   artist_id     2 non-null      object\n",
      " 1   artist_name   2 non-null      object\n",
      " 2   album_id      2 non-null      object\n",
      " 3   album_name    2 non-null      object\n",
      " 4   release_date  2 non-null      object\n",
      " 5   total_tracks  2 non-null      object\n",
      "dtypes: object(6)\n",
      "memory usage: 224.0+ bytes\n"
     ]
    }
   ],
   "source": [
    "album_df.info()"
   ]
  },
  {
   "cell_type": "code",
   "execution_count": 17,
   "metadata": {},
   "outputs": [
    {
     "ename": "ModuleNotFoundError",
     "evalue": "No module named 'psycopg2'",
     "output_type": "error",
     "traceback": [
      "\u001b[0;31m---------------------------------------------------------------------------\u001b[0m",
      "\u001b[0;31mModuleNotFoundError\u001b[0m                       Traceback (most recent call last)",
      "\u001b[1;32m/home/derek/Documents/spotify_analysis/01_2022-05-21_Iterate_artist_list.ipynb Cell 7\u001b[0m line \u001b[0;36m1\n\u001b[0;32m----> <a href='vscode-notebook-cell:/home/derek/Documents/spotify_analysis/01_2022-05-21_Iterate_artist_list.ipynb#W6sZmlsZQ%3D%3D?line=0'>1</a>\u001b[0m \u001b[39mimport\u001b[39;00m \u001b[39mpsycopg2\u001b[39;00m\n\u001b[1;32m      <a href='vscode-notebook-cell:/home/derek/Documents/spotify_analysis/01_2022-05-21_Iterate_artist_list.ipynb#W6sZmlsZQ%3D%3D?line=1'>2</a>\u001b[0m \u001b[39mimport\u001b[39;00m \u001b[39mnumpy\u001b[39;00m \u001b[39mas\u001b[39;00m \u001b[39mnp\u001b[39;00m\n\u001b[1;32m      <a href='vscode-notebook-cell:/home/derek/Documents/spotify_analysis/01_2022-05-21_Iterate_artist_list.ipynb#W6sZmlsZQ%3D%3D?line=2'>3</a>\u001b[0m \u001b[39mimport\u001b[39;00m \u001b[39mpsycopg2\u001b[39;00m\u001b[39m.\u001b[39;00m\u001b[39mextras\u001b[39;00m \u001b[39mas\u001b[39;00m \u001b[39mextras\u001b[39;00m\n",
      "\u001b[0;31mModuleNotFoundError\u001b[0m: No module named 'psycopg2'"
     ]
    }
   ],
   "source": [
    "import psycopg2\n",
    "import numpy as np\n",
    "import psycopg2.extras as extras\n",
    "import pandas as pd\n",
    "  \n",
    "# bulk insert to postgreSQL db  \n",
    "def execute_values(conn, album_df, table):\n",
    "  \n",
    "    tuples = [tuple(x) for x in album_df.to_numpy()]\n",
    "  \n",
    "    cols = ','.join(list(album_df.columns))\n",
    "    # SQL query to execute\n",
    "    query = \"\"\"\n",
    "        INSERT INTO %s(%s)\n",
    "        VALUES %%s\n",
    "        ON CONFLICT DO NOTHING\n",
    "        \"\"\" % (table, cols)\n",
    "    cursor = conn.cursor()\n",
    "    try:\n",
    "        extras.execute_values(cursor, query, tuples)\n",
    "       # print(tuples)\n",
    "        conn.commit()\n",
    "    except (Exception, psycopg2.DatabaseError) as error:\n",
    "        print(\"Error: %s\" % error)\n",
    "        conn.rollback()\n",
    "        cursor.close()\n",
    "        return 1\n",
    "    print(\"the dataframe is inserted\")\n",
    "    cursor.close()\n",
    "  \n",
    "conn = psycopg2.connect(database=\"dspjmain\",\n",
    "                        host=\"localhost\",\n",
    "                        user=\"postgres\",\n",
    "                        password=\"derekgrammer\",\n",
    "                        port=\"5432\")\n",
    "  \n",
    "execute_values(conn, album_df, 'dspjschema.artists')\n"
   ]
  },
  {
   "cell_type": "code",
   "execution_count": null,
   "metadata": {},
   "outputs": [],
   "source": []
  }
 ],
 "metadata": {
  "kernelspec": {
   "display_name": "Python 3",
   "language": "python",
   "name": "python3"
  },
  "language_info": {
   "codemirror_mode": {
    "name": "ipython",
    "version": 3
   },
   "file_extension": ".py",
   "mimetype": "text/x-python",
   "name": "python",
   "nbconvert_exporter": "python",
   "pygments_lexer": "ipython3",
   "version": "3.10.12"
  },
  "orig_nbformat": 4,
  "vscode": {
   "interpreter": {
    "hash": "06d65585397194ffcaf6fd2276ffa5750d1446fb10621674060d9e7652194a07"
   }
  }
 },
 "nbformat": 4,
 "nbformat_minor": 2
}
