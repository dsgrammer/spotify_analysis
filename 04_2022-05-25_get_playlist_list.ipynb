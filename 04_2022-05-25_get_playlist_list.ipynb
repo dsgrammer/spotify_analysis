{
 "cells": [
  {
   "cell_type": "code",
   "execution_count": 1,
   "metadata": {},
   "outputs": [],
   "source": [
    "import requests\n",
    "import pandas as pd\n",
    "import time"
   ]
  },
  {
   "cell_type": "code",
   "execution_count": 2,
   "metadata": {},
   "outputs": [],
   "source": [
    "AUTH_URL = 'https://accounts.spotify.com/api/token'\n",
    "# POST\n",
    "auth_response = requests.post(AUTH_URL, {\n",
    "    'grant_type': 'client_credentials',\n",
    "    'client_id': '9cdef0bc741e471385b100af843c28c5',\n",
    "    'client_secret': 'a0820dd07a3e4d8facb51bb5ed5130a2',\n",
    "})\n",
    "# convert the response to JSON\n",
    "auth_response_data = auth_response.json()\n",
    "# save the access token\n",
    "access_token = auth_response_data['access_token']\n",
    "# used for authenticating all API calls\n",
    "headers = {'Authorization': 'Bearer {token}'.format(token=access_token)}"
   ]
  },
  {
   "cell_type": "code",
   "execution_count": 3,
   "metadata": {},
   "outputs": [],
   "source": [
    "#get track audio features\n",
    "def get_playlists(playlist_df,user_id):\n",
    "    # pull all tracks from this album\n",
    "    for user in user_id:\n",
    "        user_id = user\n",
    "        r = requests.get(BASE_URL + 'users/' + user_id + '/playlists/', headers=headers)\n",
    "        d = r.json()\n",
    "        time.sleep(1)\n",
    "        \n",
    "        i = 0\n",
    "        for playlist in d['items']:\n",
    "            if playlist['type'] == 'playlist':\n",
    "                playlist_id = d['items'][i]['id']\n",
    "                playlist_name = d['items'][i]['name']\n",
    "                description = d['items'][i]['description']\n",
    "                num_tracks = d['items'][i]['tracks']['total']\n",
    "                owner = d['items'][i]['owner']['display_name']\n",
    "                is_public = d['items'][i]['public']\n",
    "                is_collaborative = d['items'][i]['collaborative']\n",
    "        \n",
    "                #save data in pd dataframe\n",
    "                ##playlist_df = playlist_df.append({'playlist_id':playlist_id,'playlist_name': playlist_name,'description': description,\n",
    "                ##    'num_tracks': num_tracks,'owner': owner,'is_public': is_public,'is_collaborative': is_collaborative},ignore_index=True)\n",
    "                temp_df = pd.DataFrame({'playlist_id':playlist_id,'playlist_name': playlist_name,'description': description,\n",
    "                    'num_tracks': num_tracks,'owner': owner,'is_public': is_public,'is_collaborative': is_collaborative},index=[i])\n",
    "                playlist_df = pd.concat([playlist_df, temp_df], ignore_index=True)\n",
    "            i += 1\n",
    "\n",
    "    return playlist_df"
   ]
  },
  {
   "cell_type": "code",
   "execution_count": 4,
   "metadata": {},
   "outputs": [
    {
     "name": "stdout",
     "output_type": "stream",
     "text": [
      "-----------------------------------\n",
      "Saved to .csv in project directory.\n",
      "-----------------------------------\n"
     ]
    }
   ],
   "source": [
    "#Main\n",
    "BASE_URL = 'https://api.spotify.com/v1/'\n",
    "user_id = ['1210694363']\n",
    "#user_id = pd.read_csv(r'C:\\Users\\dsgra\\Desktop\\data science pj\\user_id.csv')\n",
    "#user_id = user_id.loc[:,'user_id']\n",
    "playlist_df = pd.DataFrame(columns=[\"playlist_id\",\"playlist_name\",\"description\",\"num_tracks\",\"owner\",\"is_public\",\"is_collaborative\"])\n",
    "playlist_df = get_playlists(playlist_df, user_id)\n",
    "\n",
    "playlist_df.to_csv(r'~/Documents/spotify_analysis/playlists.csv',encoding='utf-8-sig')\n",
    "print('-----------------------------------')\n",
    "print('Saved to .csv in project directory.')\n",
    "print('-----------------------------------')"
   ]
  },
  {
   "cell_type": "code",
   "execution_count": 5,
   "metadata": {},
   "outputs": [],
   "source": [
    "#/v1/playlists/{playlist_id}/tracks\n",
    "playlist_id = '1DkMMHspCJGfr3Fo0a2gjm'\n",
    "f = requests.get(BASE_URL + 'playlists/' + playlist_id + '/tracks/', headers=headers)\n",
    "a = f.json()\n",
    "\n",
    "import json\n",
    "with open('playlist_song_list.json', 'w', encoding='utf-8') as f:\n",
    "    json.dump(a, f, ensure_ascii=False, indent=4)"
   ]
  },
  {
   "cell_type": "code",
   "execution_count": 6,
   "metadata": {},
   "outputs": [],
   "source": [
    "# it is possible to get album and track info from the json of the playlist request, but not audio-features."
   ]
  },
  {
   "cell_type": "code",
   "execution_count": 7,
   "metadata": {},
   "outputs": [
    {
     "data": {
      "text/html": [
       "<div>\n",
       "<style scoped>\n",
       "    .dataframe tbody tr th:only-of-type {\n",
       "        vertical-align: middle;\n",
       "    }\n",
       "\n",
       "    .dataframe tbody tr th {\n",
       "        vertical-align: top;\n",
       "    }\n",
       "\n",
       "    .dataframe thead th {\n",
       "        text-align: right;\n",
       "    }\n",
       "</style>\n",
       "<table border=\"1\" class=\"dataframe\">\n",
       "  <thead>\n",
       "    <tr style=\"text-align: right;\">\n",
       "      <th></th>\n",
       "      <th>playlist_id</th>\n",
       "      <th>playlist_name</th>\n",
       "      <th>description</th>\n",
       "      <th>num_tracks</th>\n",
       "      <th>owner</th>\n",
       "      <th>is_public</th>\n",
       "      <th>is_collaborative</th>\n",
       "    </tr>\n",
       "  </thead>\n",
       "  <tbody>\n",
       "    <tr>\n",
       "      <th>0</th>\n",
       "      <td>5NeHy1JV3CpdvYuW2OtqH5</td>\n",
       "      <td>Old Gods of Asgard</td>\n",
       "      <td></td>\n",
       "      <td>5</td>\n",
       "      <td>Derek Scott Grammer</td>\n",
       "      <td>True</td>\n",
       "      <td>False</td>\n",
       "    </tr>\n",
       "    <tr>\n",
       "      <th>1</th>\n",
       "      <td>2wqOdmAROa3ORY4vMzuAV6</td>\n",
       "      <td>Bluegrass Magic</td>\n",
       "      <td></td>\n",
       "      <td>36</td>\n",
       "      <td>Derek Scott Grammer</td>\n",
       "      <td>True</td>\n",
       "      <td>False</td>\n",
       "    </tr>\n",
       "    <tr>\n",
       "      <th>2</th>\n",
       "      <td>1DkMMHspCJGfr3Fo0a2gjm</td>\n",
       "      <td>Derek's Easy Listening Playlist</td>\n",
       "      <td>Songs for when I am just not in the mood for t...</td>\n",
       "      <td>346</td>\n",
       "      <td>Derek Scott Grammer</td>\n",
       "      <td>True</td>\n",
       "      <td>False</td>\n",
       "    </tr>\n",
       "    <tr>\n",
       "      <th>3</th>\n",
       "      <td>3tSaOhLCDVn4v61sRprG6k</td>\n",
       "      <td>Video Game Music for Guitar</td>\n",
       "      <td></td>\n",
       "      <td>8</td>\n",
       "      <td>Derek Scott Grammer</td>\n",
       "      <td>True</td>\n",
       "      <td>False</td>\n",
       "    </tr>\n",
       "  </tbody>\n",
       "</table>\n",
       "</div>"
      ],
      "text/plain": [
       "              playlist_id                    playlist_name  \\\n",
       "0  5NeHy1JV3CpdvYuW2OtqH5               Old Gods of Asgard   \n",
       "1  2wqOdmAROa3ORY4vMzuAV6                  Bluegrass Magic   \n",
       "2  1DkMMHspCJGfr3Fo0a2gjm  Derek's Easy Listening Playlist   \n",
       "3  3tSaOhLCDVn4v61sRprG6k      Video Game Music for Guitar   \n",
       "\n",
       "                                         description num_tracks  \\\n",
       "0                                                             5   \n",
       "1                                                            36   \n",
       "2  Songs for when I am just not in the mood for t...        346   \n",
       "3                                                             8   \n",
       "\n",
       "                 owner is_public is_collaborative  \n",
       "0  Derek Scott Grammer      True            False  \n",
       "1  Derek Scott Grammer      True            False  \n",
       "2  Derek Scott Grammer      True            False  \n",
       "3  Derek Scott Grammer      True            False  "
      ]
     },
     "execution_count": 7,
     "metadata": {},
     "output_type": "execute_result"
    }
   ],
   "source": [
    "playlist_df"
   ]
  },
  {
   "cell_type": "code",
   "execution_count": null,
   "metadata": {},
   "outputs": [],
   "source": []
  }
 ],
 "metadata": {
  "interpreter": {
   "hash": "3793ca1722c5937db124931a2f34c7753e7afdb940a071a1799ff158b6ff58d9"
  },
  "kernelspec": {
   "display_name": "Python 3.10.4 64-bit",
   "language": "python",
   "name": "python3"
  },
  "language_info": {
   "codemirror_mode": {
    "name": "ipython",
    "version": 3
   },
   "file_extension": ".py",
   "mimetype": "text/x-python",
   "name": "python",
   "nbconvert_exporter": "python",
   "pygments_lexer": "ipython3",
   "version": "3.10.12"
  },
  "orig_nbformat": 4
 },
 "nbformat": 4,
 "nbformat_minor": 2
}
