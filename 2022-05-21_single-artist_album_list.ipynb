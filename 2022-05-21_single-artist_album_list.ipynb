{
 "cells": [
  {
   "cell_type": "markdown",
   "metadata": {},
   "source": [
    "First version of the API call program, uses only a single artist URI (ID) to get album information of that artist."
   ]
  },
  {
   "cell_type": "code",
   "execution_count": 2,
   "metadata": {},
   "outputs": [],
   "source": [
    "import requests\n",
    "import pandas as pd\n",
    "import time"
   ]
  },
  {
   "cell_type": "code",
   "execution_count": 3,
   "metadata": {},
   "outputs": [],
   "source": [
    "AUTH_URL = 'https://accounts.spotify.com/api/token'\n",
    "# POST\n",
    "auth_response = requests.post(AUTH_URL, {\n",
    "    'grant_type': 'client_credentials',\n",
    "    'client_id': '9cdef0bc741e471385b100af843c28c5',\n",
    "    'client_secret': 'a0820dd07a3e4d8facb51bb5ed5130a2',\n",
    "})\n",
    "# convert the response to JSON\n",
    "auth_response_data = auth_response.json()\n",
    "# save the access token\n",
    "access_token = auth_response_data['access_token']\n",
    "# used for authenticating all API calls\n",
    "headers = {'Authorization': 'Bearer {token}'.format(token=access_token)}"
   ]
  },
  {
   "cell_type": "code",
   "execution_count": 4,
   "metadata": {},
   "outputs": [],
   "source": [
    "def get_albums(album_df):\n",
    "    # pull all artist's albums\n",
    "    r = requests.get(BASE_URL + 'artists/' + artist_id + '/albums', \n",
    "                     headers=headers, \n",
    "                     params={'include_groups': 'album'})\n",
    "    d = r.json()\n",
    "    \n",
    "    time.sleep(1)\n",
    "    \n",
    "    for album in d['items']:\n",
    "        if album['type'] == 'album':\n",
    "            band_id = album['artists'][0]['id']\n",
    "            band_name = album['artists'][0]['name']\n",
    "            album_name = album['name']\n",
    "            release_date = album['release_date']\n",
    "            total_tracks = album['total_tracks']\n",
    "            album_id = album['id']\n",
    "\n",
    "            # skip album doubles\n",
    "            trim_name = album_name.split('(')[0].strip()\n",
    "            # Trivium specific\n",
    "            if trim_name.upper() in albums or album['name'] == ('Ascendancy (Commentary Version)') or album['name'] == ('Ember To Inferno'):\n",
    "                continue\n",
    "            albums.append(trim_name.upper())\n",
    "            \n",
    "            #save data in pd dataframe\n",
    "            album_df = album_df.append({'band_id':band_id,'band_name':band_name,'album_name':album_name,'release_date':release_date,\n",
    "                            'total_tracks':total_tracks,'album_id':album_id},ignore_index=True)\n",
    "    return album_df"
   ]
  },
  {
   "cell_type": "code",
   "execution_count": 5,
   "metadata": {},
   "outputs": [
    {
     "name": "stderr",
     "output_type": "stream",
     "text": [
      "C:\\Users\\dsgra\\AppData\\Local\\Temp\\ipykernel_18596\\808911545.py:27: FutureWarning: The frame.append method is deprecated and will be removed from pandas in a future version. Use pandas.concat instead.\n",
      "  album_df = album_df.append({'band_id':band_id,'band_name':band_name,'album_name':album_name,'release_date':release_date,\n",
      "C:\\Users\\dsgra\\AppData\\Local\\Temp\\ipykernel_18596\\808911545.py:27: FutureWarning: The frame.append method is deprecated and will be removed from pandas in a future version. Use pandas.concat instead.\n",
      "  album_df = album_df.append({'band_id':band_id,'band_name':band_name,'album_name':album_name,'release_date':release_date,\n",
      "C:\\Users\\dsgra\\AppData\\Local\\Temp\\ipykernel_18596\\808911545.py:27: FutureWarning: The frame.append method is deprecated and will be removed from pandas in a future version. Use pandas.concat instead.\n",
      "  album_df = album_df.append({'band_id':band_id,'band_name':band_name,'album_name':album_name,'release_date':release_date,\n",
      "C:\\Users\\dsgra\\AppData\\Local\\Temp\\ipykernel_18596\\808911545.py:27: FutureWarning: The frame.append method is deprecated and will be removed from pandas in a future version. Use pandas.concat instead.\n",
      "  album_df = album_df.append({'band_id':band_id,'band_name':band_name,'album_name':album_name,'release_date':release_date,\n",
      "C:\\Users\\dsgra\\AppData\\Local\\Temp\\ipykernel_18596\\808911545.py:27: FutureWarning: The frame.append method is deprecated and will be removed from pandas in a future version. Use pandas.concat instead.\n",
      "  album_df = album_df.append({'band_id':band_id,'band_name':band_name,'album_name':album_name,'release_date':release_date,\n",
      "C:\\Users\\dsgra\\AppData\\Local\\Temp\\ipykernel_18596\\808911545.py:27: FutureWarning: The frame.append method is deprecated and will be removed from pandas in a future version. Use pandas.concat instead.\n",
      "  album_df = album_df.append({'band_id':band_id,'band_name':band_name,'album_name':album_name,'release_date':release_date,\n",
      "C:\\Users\\dsgra\\AppData\\Local\\Temp\\ipykernel_18596\\808911545.py:27: FutureWarning: The frame.append method is deprecated and will be removed from pandas in a future version. Use pandas.concat instead.\n",
      "  album_df = album_df.append({'band_id':band_id,'band_name':band_name,'album_name':album_name,'release_date':release_date,\n"
     ]
    }
   ],
   "source": [
    "#Main\n",
    "BASE_URL = 'https://api.spotify.com/v1/'\n",
    "artist_id = '65C6Unk7nhg2aCnVuAPMo8'\n",
    "data = []\n",
    "albums = []\n",
    "album_df = pd.DataFrame(columns=[\"band_id\",\"band_name\",\"album_name\",\"release_date\",\n",
    "                  \"total_tracks\",\"album_id\"])\n",
    "album_df = get_albums(album_df)"
   ]
  },
  {
   "cell_type": "code",
   "execution_count": 6,
   "metadata": {},
   "outputs": [
    {
     "name": "stdout",
     "output_type": "stream",
     "text": [
      "Saved to .csv in project directory.\n"
     ]
    }
   ],
   "source": [
    "#album_df = album_df.set_index('album_id')\n",
    "album_df.to_csv(r'C:\\Users\\dsgra\\Desktop\\data science pj\\album_list_2.csv',encoding='utf-8-sig')\n",
    "print('Saved to .csv in project directory.')"
   ]
  },
  {
   "cell_type": "code",
   "execution_count": null,
   "metadata": {},
   "outputs": [],
   "source": []
  }
 ],
 "metadata": {
  "interpreter": {
   "hash": "3793ca1722c5937db124931a2f34c7753e7afdb940a071a1799ff158b6ff58d9"
  },
  "kernelspec": {
   "display_name": "Python 3.10.4 64-bit",
   "language": "python",
   "name": "python3"
  },
  "language_info": {
   "codemirror_mode": {
    "name": "ipython",
    "version": 3
   },
   "file_extension": ".py",
   "mimetype": "text/x-python",
   "name": "python",
   "nbconvert_exporter": "python",
   "pygments_lexer": "ipython3",
   "version": "3.10.4"
  },
  "orig_nbformat": 4
 },
 "nbformat": 4,
 "nbformat_minor": 2
}
